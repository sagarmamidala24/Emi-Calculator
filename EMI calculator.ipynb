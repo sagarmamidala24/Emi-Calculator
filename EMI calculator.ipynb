{
 "cells": [
  {
   "cell_type": "code",
   "execution_count": 21,
   "id": "5f8376f0-e8a8-4c5b-8930-0d19f9c42f54",
   "metadata": {},
   "outputs": [
    {
     "name": "stdout",
     "output_type": "stream",
     "text": [
      "loan ammount= 700000 ₹\n",
      "interest rate = 0.05 %\n",
      "Tenure= 30\n",
      "31499999.0\n"
     ]
    }
   ],
   "source": [
    "\n",
    "def Emi(loan_amount,interest_rate,tenure):\n",
    "    loan_amount \n",
    "    interest_rate \n",
    "    tenure \n",
    "    print('loan ammount=',loan_amount,'₹')\n",
    "    print('interest rate =',interest_rate,'%')\n",
    "    print('Tenure=',tenure)\n",
    "    print(loan_amount* interest_rate *(1+interest_rate)*tenure/(1+interest_rate)*tenure-1)\n",
    "\n",
    "Emi(700000,0.05,30)"
   ]
  },
  {
   "cell_type": "code",
   "execution_count": 22,
   "id": "28564ad0-3c6a-4c40-b075-1ac11ce785b6",
   "metadata": {},
   "outputs": [
    {
     "name": "stdout",
     "output_type": "stream",
     "text": [
      "loan ammount= 900000 ₹\n",
      "interest rate = 0.05 %\n",
      "Tenure= 30\n",
      "40499999.0\n",
      "loan ammount= 800000 ₹\n",
      "interest rate = 0.09 %\n",
      "Tenure= 150\n",
      "1619999999.0\n"
     ]
    }
   ],
   "source": [
    "Emi(900000,0.05,30)\n",
    "Emi(800000,0.09,150)"
   ]
  }
 ],
 "metadata": {
  "kernelspec": {
   "display_name": "Python 3 (ipykernel)",
   "language": "python",
   "name": "python3"
  },
  "language_info": {
   "codemirror_mode": {
    "name": "ipython",
    "version": 3
   },
   "file_extension": ".py",
   "mimetype": "text/x-python",
   "name": "python",
   "nbconvert_exporter": "python",
   "pygments_lexer": "ipython3",
   "version": "3.12.7"
  }
 },
 "nbformat": 4,
 "nbformat_minor": 5
}
